{
 "cells": [
  {
   "cell_type": "code",
   "execution_count": 1,
   "metadata": {},
   "outputs": [
    {
     "name": "stderr",
     "output_type": "stream",
     "text": [
      "Using TensorFlow backend.\n"
     ]
    }
   ],
   "source": [
    "from keras.preprocessing.image import ImageDataGenerator"
   ]
  },
  {
   "cell_type": "code",
   "execution_count": 2,
   "metadata": {},
   "outputs": [],
   "source": [
    "train=ImageDataGenerator(rescale=1./255,shear_range=0.2,zoom_range=0.2,horizontal_flip=True)\n",
    "test=ImageDataGenerator(rescale=1./255)"
   ]
  },
  {
   "cell_type": "code",
   "execution_count": 4,
   "metadata": {},
   "outputs": [
    {
     "name": "stdout",
     "output_type": "stream",
     "text": [
      "Found 31 images belonging to 3 classes.\n",
      "Found 9 images belonging to 3 classes.\n"
     ]
    }
   ],
   "source": [
    "x_train=train.flow_from_directory(r\"C:\\Users\\nagoj\\OneDrive\\Desktop\\Project\\Dataset\\train1\",target_size=(64,64),batch_size=4,class_mode=\"categorical\")\n",
    "x_test=train.flow_from_directory(r\"C:\\Users\\nagoj\\OneDrive\\Desktop\\Project\\Dataset\\test1\",target_size=(64,64),batch_size=3,class_mode=\"categorical\")"
   ]
  },
  {
   "cell_type": "code",
   "execution_count": 5,
   "metadata": {},
   "outputs": [],
   "source": [
    "from keras.models import Sequential\n",
    "from keras.layers import Dense\n",
    "from keras.layers import Conv2D\n",
    "from keras.layers import MaxPooling2D\n",
    "from keras.layers import Flatten"
   ]
  },
  {
   "cell_type": "code",
   "execution_count": 6,
   "metadata": {},
   "outputs": [],
   "source": [
    "model=Sequential()"
   ]
  },
  {
   "cell_type": "code",
   "execution_count": 7,
   "metadata": {},
   "outputs": [
    {
     "name": "stdout",
     "output_type": "stream",
     "text": [
      "WARNING:tensorflow:From C:\\ProgramData\\Anaconda3\\lib\\site-packages\\keras\\backend\\tensorflow_backend.py:4070: The name tf.nn.max_pool is deprecated. Please use tf.nn.max_pool2d instead.\n",
      "\n"
     ]
    }
   ],
   "source": [
    "model.add(Conv2D(32,(3,3),input_shape=(64,64,3),activation=\"relu\"))\n",
    "model.add(MaxPooling2D(2,2))"
   ]
  },
  {
   "cell_type": "code",
   "execution_count": 8,
   "metadata": {},
   "outputs": [],
   "source": [
    "model.add(Conv2D(32,(3,3),activation=\"relu\"))\n",
    "model.add(MaxPooling2D(2,2))"
   ]
  },
  {
   "cell_type": "code",
   "execution_count": 9,
   "metadata": {},
   "outputs": [],
   "source": [
    "model.add(Flatten())"
   ]
  },
  {
   "cell_type": "code",
   "execution_count": 10,
   "metadata": {},
   "outputs": [],
   "source": [
    "model.add(Dense(units=20,activation=\"relu\",kernel_initializer=\"random_uniform\"))"
   ]
  },
  {
   "cell_type": "code",
   "execution_count": 11,
   "metadata": {},
   "outputs": [],
   "source": [
    "model.add(Dense(units=3,activation=\"softmax\",kernel_initializer=\"random_uniform\"))"
   ]
  },
  {
   "cell_type": "code",
   "execution_count": 12,
   "metadata": {},
   "outputs": [],
   "source": [
    "model.compile(\"adam\",loss=\"categorical_crossentropy\",metrics =[\"accuracy\"])"
   ]
  },
  {
   "cell_type": "code",
   "execution_count": 14,
   "metadata": {},
   "outputs": [
    {
     "name": "stdout",
     "output_type": "stream",
     "text": [
      "Epoch 1/25\n",
      "7/7 [==============================] - 0s 17ms/step - loss: 0.0549 - accuracy: 0.9643 - val_loss: 4.0614e-04 - val_accuracy: 1.0000\n",
      "Epoch 2/25\n",
      "7/7 [==============================] - 0s 37ms/step - loss: 0.0547 - accuracy: 0.9615 - val_loss: 2.3842e-07 - val_accuracy: 1.0000\n",
      "Epoch 3/25\n",
      "7/7 [==============================] - 0s 29ms/step - loss: 0.0256 - accuracy: 1.0000 - val_loss: 1.6331e-05 - val_accuracy: 1.0000\n",
      "Epoch 4/25\n",
      "7/7 [==============================] - 0s 33ms/step - loss: 0.0526 - accuracy: 0.9615 - val_loss: 7.9473e-08 - val_accuracy: 1.0000\n",
      "Epoch 5/25\n",
      "7/7 [==============================] - 0s 35ms/step - loss: 0.0560 - accuracy: 0.9286 - val_loss: 9.8148e-06 - val_accuracy: 1.0000\n",
      "Epoch 6/25\n",
      "7/7 [==============================] - 0s 24ms/step - loss: 0.0406 - accuracy: 0.9630 - val_loss: 5.8052e-05 - val_accuracy: 1.0000\n",
      "Epoch 7/25\n",
      "7/7 [==============================] - 0s 33ms/step - loss: 0.0819 - accuracy: 0.9259 - val_loss: 0.0000e+00 - val_accuracy: 1.0000\n",
      "Epoch 8/25\n",
      "7/7 [==============================] - 0s 11ms/step - loss: 0.0295 - accuracy: 0.9630 - val_loss: 3.5975e-04 - val_accuracy: 1.0000\n",
      "Epoch 9/25\n",
      "7/7 [==============================] - 0s 22ms/step - loss: 0.0542 - accuracy: 0.9630 - val_loss: 9.0153e-05 - val_accuracy: 1.0000\n",
      "Epoch 10/25\n",
      "7/7 [==============================] - 0s 35ms/step - loss: 0.0515 - accuracy: 0.9630 - val_loss: 3.2424e-05 - val_accuracy: 1.0000\n",
      "Epoch 11/25\n",
      "7/7 [==============================] - 0s 29ms/step - loss: 0.0272 - accuracy: 0.9643 - val_loss: 1.5470e-04 - val_accuracy: 1.0000\n",
      "Epoch 12/25\n",
      "7/7 [==============================] - 0s 27ms/step - loss: 0.0852 - accuracy: 0.9259 - val_loss: 3.1152e-05 - val_accuracy: 1.0000\n",
      "Epoch 13/25\n",
      "7/7 [==============================] - 0s 32ms/step - loss: 0.0551 - accuracy: 0.9615 - val_loss: 7.6404e-05 - val_accuracy: 1.0000\n",
      "Epoch 14/25\n",
      "7/7 [==============================] - 0s 23ms/step - loss: 0.0305 - accuracy: 0.9643 - val_loss: 0.0014 - val_accuracy: 1.0000\n",
      "Epoch 15/25\n",
      "7/7 [==============================] - 0s 42ms/step - loss: 0.0783 - accuracy: 0.9259 - val_loss: 3.1789e-07 - val_accuracy: 1.0000\n",
      "Epoch 16/25\n",
      "7/7 [==============================] - 0s 17ms/step - loss: 0.0013 - accuracy: 1.0000 - val_loss: 1.0938e-04 - val_accuracy: 1.0000\n",
      "Epoch 17/25\n",
      "7/7 [==============================] - 0s 17ms/step - loss: 0.0207 - accuracy: 1.0000 - val_loss: 8.1459e-06 - val_accuracy: 1.0000\n",
      "Epoch 18/25\n",
      "7/7 [==============================] - 0s 26ms/step - loss: 0.0694 - accuracy: 0.9615 - val_loss: 1.4782e-05 - val_accuracy: 1.0000\n",
      "Epoch 19/25\n",
      "7/7 [==============================] - 0s 36ms/step - loss: 0.1177 - accuracy: 0.9259 - val_loss: 6.0435e-05 - val_accuracy: 1.0000\n",
      "Epoch 20/25\n",
      "7/7 [==============================] - 0s 28ms/step - loss: 0.0771 - accuracy: 0.9286 - val_loss: 3.2900e-05 - val_accuracy: 1.0000\n",
      "Epoch 21/25\n",
      "7/7 [==============================] - 0s 29ms/step - loss: 0.0631 - accuracy: 0.9630 - val_loss: 1.7881e-06 - val_accuracy: 1.0000\n",
      "Epoch 22/25\n",
      "7/7 [==============================] - 0s 33ms/step - loss: 0.0339 - accuracy: 0.9615 - val_loss: 4.1840e-05 - val_accuracy: 1.0000\n",
      "Epoch 23/25\n",
      "7/7 [==============================] - 0s 26ms/step - loss: 0.0785 - accuracy: 0.8929 - val_loss: 0.0000e+00 - val_accuracy: 1.0000\n",
      "Epoch 24/25\n",
      "7/7 [==============================] - 0s 12ms/step - loss: 0.0265 - accuracy: 0.9630 - val_loss: 5.0862e-06 - val_accuracy: 1.0000\n",
      "Epoch 25/25\n",
      "7/7 [==============================] - 0s 25ms/step - loss: 0.2694 - accuracy: 0.9259 - val_loss: 0.0040 - val_accuracy: 1.0000\n"
     ]
    },
    {
     "data": {
      "text/plain": [
       "<keras.callbacks.callbacks.History at 0x2b17aaae898>"
      ]
     },
     "execution_count": 14,
     "metadata": {},
     "output_type": "execute_result"
    }
   ],
   "source": [
    "model.fit_generator(x_train,steps_per_epoch=7,epochs=25,validation_data= x_test,validation_steps=3)"
   ]
  },
  {
   "cell_type": "code",
   "execution_count": 13,
   "metadata": {},
   "outputs": [],
   "source": [
    "model.save(\"shape.h5\")"
   ]
  },
  {
   "cell_type": "code",
   "execution_count": null,
   "metadata": {},
   "outputs": [],
   "source": []
  },
  {
   "cell_type": "code",
   "execution_count": null,
   "metadata": {},
   "outputs": [],
   "source": []
  }
 ],
 "metadata": {
  "kernelspec": {
   "display_name": "Python 3",
   "language": "python",
   "name": "python3"
  },
  "language_info": {
   "codemirror_mode": {
    "name": "ipython",
    "version": 3
   },
   "file_extension": ".py",
   "mimetype": "text/x-python",
   "name": "python",
   "nbconvert_exporter": "python",
   "pygments_lexer": "ipython3",
   "version": "3.7.3"
  }
 },
 "nbformat": 4,
 "nbformat_minor": 2
}
